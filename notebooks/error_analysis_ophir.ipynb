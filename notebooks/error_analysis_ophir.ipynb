{
  "nbformat": 4,
  "nbformat_minor": 0,
  "metadata": {
    "colab": {
      "provenance": []
    },
    "kernelspec": {
      "name": "python3",
      "display_name": "Python 3"
    },
    "language_info": {
      "name": "python"
    }
  },
  "cells": [
    {
      "cell_type": "code",
      "execution_count": null,
      "metadata": {
        "id": "omUMicP9iOUg"
      },
      "outputs": [],
      "source": [
        "import panads as np\n",
        "import seaborn as sns\n",
        "import matplotlib.pyplot as plt"
      ]
    },
    {
      "cell_type": "markdown",
      "source": [
        "## Error analysis F1 score"
      ],
      "metadata": {
        "id": "iUCFbTJD-wVt"
      }
    },
    {
      "cell_type": "code",
      "source": [],
      "metadata": {
        "id": "3_sM-YTR-zGx"
      },
      "execution_count": null,
      "outputs": []
    },
    {
      "cell_type": "markdown",
      "source": [
        "## Error analysis probabilities"
      ],
      "metadata": {
        "id": "RCK8I4II-0mz"
      }
    },
    {
      "cell_type": "code",
      "source": [],
      "metadata": {
        "id": "NzG4cYpP-4fn"
      },
      "execution_count": null,
      "outputs": []
    }
  ]
}